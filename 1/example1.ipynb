{
 "cells": [
  {
   "cell_type": "markdown",
   "id": "93f54ed2",
   "metadata": {},
   "source": [
    "## Интерации"
   ]
  },
  {
   "cell_type": "code",
   "execution_count": 1,
   "id": "15fb2202",
   "metadata": {},
   "outputs": [
    {
     "name": "stdout",
     "output_type": "stream",
     "text": [
      "aso;rhbvhnerp\n",
      "2\n",
      "3\n"
     ]
    }
   ],
   "source": [
    "words = [\"aso;rhbvhnerp\", \"2\", \"3\"]\n",
    "for x in words:\n",
    "    print(x)"
   ]
  },
  {
   "cell_type": "markdown",
   "id": "3a7c2d29",
   "metadata": {},
   "source": [
    "## Проврека работы функций"
   ]
  },
  {
   "cell_type": "code",
   "execution_count": 2,
   "id": "76061845",
   "metadata": {},
   "outputs": [],
   "source": [
    "def function(x):\n",
    "    return x**2 + 2;"
   ]
  },
  {
   "cell_type": "code",
   "execution_count": 3,
   "id": "cbc36ac3",
   "metadata": {},
   "outputs": [
    {
     "data": {
      "text/plain": [
       "2"
      ]
     },
     "execution_count": 3,
     "metadata": {},
     "output_type": "execute_result"
    }
   ],
   "source": [
    "function(0)"
   ]
  },
  {
   "cell_type": "code",
   "execution_count": 4,
   "id": "373c30b8",
   "metadata": {},
   "outputs": [
    {
     "data": {
      "text/plain": [
       "6"
      ]
     },
     "execution_count": 4,
     "metadata": {},
     "output_type": "execute_result"
    }
   ],
   "source": [
    "function(2)"
   ]
  },
  {
   "cell_type": "markdown",
   "id": "b2f03ccd",
   "metadata": {},
   "source": [
    "## Заполнение массивов "
   ]
  },
  {
   "cell_type": "code",
   "execution_count": 5,
   "id": "352b6afc",
   "metadata": {},
   "outputs": [],
   "source": [
    "X = range(10)"
   ]
  },
  {
   "cell_type": "code",
   "execution_count": 6,
   "id": "1821b5f4",
   "metadata": {},
   "outputs": [
    {
     "name": "stdout",
     "output_type": "stream",
     "text": [
      "0\n",
      "1\n",
      "2\n",
      "3\n",
      "4\n",
      "5\n",
      "6\n",
      "7\n",
      "8\n",
      "9\n"
     ]
    }
   ],
   "source": [
    "for num in X:\n",
    "    print(num)"
   ]
  },
  {
   "cell_type": "code",
   "execution_count": 7,
   "id": "4e037680",
   "metadata": {},
   "outputs": [],
   "source": [
    "Y=[]\n",
    "Y1=[]\n",
    "for num in X:\n",
    "    Y.append(function(num))\n",
    "    Y1.append(function(num)/2)"
   ]
  },
  {
   "cell_type": "code",
   "execution_count": 8,
   "id": "ed4f3755",
   "metadata": {},
   "outputs": [],
   "source": [
    "def printArrs():\n",
    "    print(Y)\n",
    "    print(Y1)"
   ]
  },
  {
   "cell_type": "code",
   "execution_count": 9,
   "id": "f17d1f8b",
   "metadata": {},
   "outputs": [
    {
     "name": "stdout",
     "output_type": "stream",
     "text": [
      "[2, 3, 6, 11, 18, 27, 38, 51, 66, 83]\n",
      "[1.0, 1.5, 3.0, 5.5, 9.0, 13.5, 19.0, 25.5, 33.0, 41.5]\n"
     ]
    }
   ],
   "source": [
    "printArrs()"
   ]
  },
  {
   "cell_type": "markdown",
   "id": "965d48c8",
   "metadata": {},
   "source": [
    "## Условия"
   ]
  },
  {
   "cell_type": "code",
   "execution_count": 10,
   "id": "454dfd5e",
   "metadata": {},
   "outputs": [],
   "source": [
    "Y=[]\n",
    "Y1=[]\n",
    "for x in X:\n",
    "    if function(x)>7:\n",
    "        Y.append(function(x))\n",
    "    if function(x) <= 7:\n",
    "        Y1.append(function(x))"
   ]
  },
  {
   "cell_type": "code",
   "execution_count": 11,
   "id": "9fd8a038",
   "metadata": {},
   "outputs": [
    {
     "name": "stdout",
     "output_type": "stream",
     "text": [
      "[11, 18, 27, 38, 51, 66, 83]\n",
      "[2, 3, 6]\n"
     ]
    }
   ],
   "source": [
    "printArrs()"
   ]
  },
  {
   "cell_type": "markdown",
   "id": "45ed4c15",
   "metadata": {},
   "source": [
    "## else"
   ]
  },
  {
   "cell_type": "code",
   "execution_count": 12,
   "id": "f92fb3b0",
   "metadata": {},
   "outputs": [],
   "source": [
    "Y=[]\n",
    "Y1=[]\n",
    "for x in X:\n",
    "    if function(x)>7:\n",
    "        Y.append(function(x))\n",
    "    else:\n",
    "        Y1.append(function(x))"
   ]
  },
  {
   "cell_type": "code",
   "execution_count": 13,
   "id": "e3cf91ca",
   "metadata": {},
   "outputs": [
    {
     "name": "stdout",
     "output_type": "stream",
     "text": [
      "[11, 18, 27, 38, 51, 66, 83]\n",
      "[2, 3, 6]\n"
     ]
    }
   ],
   "source": [
    "printArrs()"
   ]
  },
  {
   "cell_type": "markdown",
   "id": "22800402",
   "metadata": {},
   "source": [
    "## elif"
   ]
  },
  {
   "cell_type": "code",
   "execution_count": 14,
   "id": "e7db67aa",
   "metadata": {},
   "outputs": [],
   "source": [
    "Y=[]\n",
    "Y1=[]\n",
    "for x in X:\n",
    "    if function(x) < 50:\n",
    "        Y.append(function(x))\n",
    "    elif function(x) == 27:\n",
    "        Y.append(Y.append(function(x)))\n",
    "    else:\n",
    "        Y1.append(function(x))"
   ]
  },
  {
   "cell_type": "code",
   "execution_count": 15,
   "id": "6719fa1e",
   "metadata": {},
   "outputs": [
    {
     "name": "stdout",
     "output_type": "stream",
     "text": [
      "[2, 3, 6, 11, 18, 27, 38]\n",
      "[51, 66, 83]\n"
     ]
    }
   ],
   "source": [
    "printArrs()"
   ]
  }
 ],
 "metadata": {
  "kernelspec": {
   "display_name": "Python 3 (ipykernel)",
   "language": "python",
   "name": "python3"
  },
  "language_info": {
   "codemirror_mode": {
    "name": "ipython",
    "version": 3
   },
   "file_extension": ".py",
   "mimetype": "text/x-python",
   "name": "python",
   "nbconvert_exporter": "python",
   "pygments_lexer": "ipython3",
   "version": "3.10.4"
  }
 },
 "nbformat": 4,
 "nbformat_minor": 5
}
