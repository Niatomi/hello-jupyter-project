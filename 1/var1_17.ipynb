{
 "cells": [
  {
   "cell_type": "markdown",
   "id": "3a7c2d29",
   "metadata": {},
   "source": [
    "## Работа по варианту 17"
   ]
  },
  {
   "cell_type": "code",
   "execution_count": 1,
   "id": "76061845",
   "metadata": {},
   "outputs": [],
   "source": [
    "def function(x):\n",
    "    return 0.3*x**2 + 0.2*x;"
   ]
  },
  {
   "cell_type": "code",
   "execution_count": 2,
   "id": "373c30b8",
   "metadata": {},
   "outputs": [
    {
     "data": {
      "text/plain": [
       "1.6"
      ]
     },
     "execution_count": 2,
     "metadata": {},
     "output_type": "execute_result"
    }
   ],
   "source": [
    "function(2)"
   ]
  },
  {
   "cell_type": "markdown",
   "id": "b2f03ccd",
   "metadata": {},
   "source": [
    "## Заполнение массивов "
   ]
  },
  {
   "cell_type": "code",
   "execution_count": 3,
   "id": "352b6afc",
   "metadata": {},
   "outputs": [],
   "source": [
    "X = range(10)"
   ]
  },
  {
   "cell_type": "code",
   "execution_count": 4,
   "id": "4e037680",
   "metadata": {},
   "outputs": [],
   "source": [
    "Y=[]\n",
    "Y1=[]\n",
    "for num in X:\n",
    "    Y.append(function(num))\n",
    "    Y1.append(function(num)/2)"
   ]
  },
  {
   "cell_type": "code",
   "execution_count": 5,
   "id": "ed4f3755",
   "metadata": {},
   "outputs": [],
   "source": [
    "def printArrs():\n",
    "    print(Y)\n",
    "    print(Y1)"
   ]
  },
  {
   "cell_type": "code",
   "execution_count": 6,
   "id": "f17d1f8b",
   "metadata": {},
   "outputs": [
    {
     "name": "stdout",
     "output_type": "stream",
     "text": [
      "[0.0, 0.5, 1.6, 3.3, 5.6, 8.5, 12.0, 16.099999999999998, 20.8, 26.1]\n",
      "[0.0, 0.25, 0.8, 1.65, 2.8, 4.25, 6.0, 8.049999999999999, 10.4, 13.05]\n"
     ]
    }
   ],
   "source": [
    "printArrs()"
   ]
  },
  {
   "cell_type": "markdown",
   "id": "965d48c8",
   "metadata": {},
   "source": [
    "## Условия"
   ]
  },
  {
   "cell_type": "code",
   "execution_count": 7,
   "id": "454dfd5e",
   "metadata": {},
   "outputs": [],
   "source": [
    "Y=[]\n",
    "Y1=[]\n",
    "for x in X:\n",
    "    if function(x)>7:\n",
    "        Y.append(function(x))\n",
    "    if function(x) <= 7:\n",
    "        Y1.append(function(x))"
   ]
  },
  {
   "cell_type": "code",
   "execution_count": 8,
   "id": "9fd8a038",
   "metadata": {},
   "outputs": [
    {
     "name": "stdout",
     "output_type": "stream",
     "text": [
      "[8.5, 12.0, 16.099999999999998, 20.8, 26.1]\n",
      "[0.0, 0.5, 1.6, 3.3, 5.6]\n"
     ]
    }
   ],
   "source": [
    "printArrs()"
   ]
  },
  {
   "cell_type": "markdown",
   "id": "45ed4c15",
   "metadata": {},
   "source": [
    "## else"
   ]
  },
  {
   "cell_type": "code",
   "execution_count": 9,
   "id": "f92fb3b0",
   "metadata": {},
   "outputs": [],
   "source": [
    "Y=[]\n",
    "Y1=[]\n",
    "for x in X:\n",
    "    if function(x)>7:\n",
    "        Y.append(function(x))\n",
    "    else:\n",
    "        Y1.append(function(x))"
   ]
  },
  {
   "cell_type": "code",
   "execution_count": 10,
   "id": "e3cf91ca",
   "metadata": {},
   "outputs": [
    {
     "name": "stdout",
     "output_type": "stream",
     "text": [
      "[8.5, 12.0, 16.099999999999998, 20.8, 26.1]\n",
      "[0.0, 0.5, 1.6, 3.3, 5.6]\n"
     ]
    }
   ],
   "source": [
    "printArrs()"
   ]
  },
  {
   "cell_type": "markdown",
   "id": "22800402",
   "metadata": {},
   "source": [
    "## elif"
   ]
  },
  {
   "cell_type": "code",
   "execution_count": 11,
   "id": "e7db67aa",
   "metadata": {},
   "outputs": [],
   "source": [
    "Y=[]\n",
    "Y1=[]\n",
    "for x in X:\n",
    "    if function(x) < 50:\n",
    "        Y.append(function(x))\n",
    "    elif function(x) == 27:\n",
    "        Y.append(Y.append(function(x)))\n",
    "    else:\n",
    "        Y1.append(function(x))"
   ]
  },
  {
   "cell_type": "code",
   "execution_count": 12,
   "id": "6719fa1e",
   "metadata": {},
   "outputs": [
    {
     "name": "stdout",
     "output_type": "stream",
     "text": [
      "[0.0, 0.5, 1.6, 3.3, 5.6, 8.5, 12.0, 16.099999999999998, 20.8, 26.1]\n",
      "[]\n"
     ]
    }
   ],
   "source": [
    "printArrs()"
   ]
  }
 ],
 "metadata": {
  "kernelspec": {
   "display_name": "Python 3 (ipykernel)",
   "language": "python",
   "name": "python3"
  },
  "language_info": {
   "codemirror_mode": {
    "name": "ipython",
    "version": 3
   },
   "file_extension": ".py",
   "mimetype": "text/x-python",
   "name": "python",
   "nbconvert_exporter": "python",
   "pygments_lexer": "ipython3",
   "version": "3.10.4"
  }
 },
 "nbformat": 4,
 "nbformat_minor": 5
}
